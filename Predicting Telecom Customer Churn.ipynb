{
 "cells": [
  {
   "cell_type": "markdown",
   "id": "0668e175",
   "metadata": {},
   "source": [
    "## Dataset Reference: \n",
    "<a href=\"https://app.datacamp.com/learn/courses/marketing-analytics-predicting-customer-churn-in-python\">Dataset source</a>"
   ]
  },
  {
   "cell_type": "markdown",
   "id": "e8c94c28",
   "metadata": {},
   "source": [
    "**Objectives:**\n",
    "- One-hot Encoding\n",
    "- Decision Tree Classification\n",
    "- Data Transformation\n",
    "- Cross-Validation\n",
    "- Grid Search\n",
    "- Tree diagram of the Decision Tree\n",
    "- Confusion Matrix, Classification report, and ROC-AUC\n",
    "- Explaining accuracy, precision, recall, f1 score"
   ]
  },
  {
   "cell_type": "markdown",
   "id": "b69f12ed",
   "metadata": {},
   "source": [
    "### Import required libraries"
   ]
  },
  {
   "cell_type": "code",
   "execution_count": 1,
   "id": "05289bdd",
   "metadata": {},
   "outputs": [],
   "source": [
    "import pandas as pd\n",
    "import numpy as np\n",
    "\n",
    "from sklearn.model_selection import train_test_split\n",
    "from sklearn.tree import DecisionTreeClassifier\n",
    "\n",
    "from sklearn.tree import plot_tree\n",
    "from sklearn.model_selection import GridSearchCV\n",
    "\n",
    "from sklearn.preprocessing import StandardScaler\n",
    "from sklearn.preprocessing import MinMaxScaler\n",
    "\n",
    "from sklearn.metrics import accuracy_score, classification_report, confusion_matrix\n",
    "from sklearn.metrics import roc_curve, roc_auc_score, precision_score, recall_score, f1_score\n",
    "from sklearn.metrics import plot_confusion_matrix\n",
    "\n",
    "import matplotlib.pyplot as plt\n",
    "import seaborn as sns\n",
    "\n",
    "sns.set_context(\"talk\")\n",
    "#sns.set_style(\"darkgrid\")\n",
    "\n",
    "import warnings\n",
    "warnings.filterwarnings('ignore')"
   ]
  },
  {
   "cell_type": "markdown",
   "id": "fc40b954",
   "metadata": {},
   "source": [
    "### Load Churn Dataset"
   ]
  },
  {
   "cell_type": "code",
   "execution_count": 2,
   "id": "dd389136",
   "metadata": {},
   "outputs": [
    {
     "data": {
      "text/html": [
       "<div>\n",
       "<style scoped>\n",
       "    .dataframe tbody tr th:only-of-type {\n",
       "        vertical-align: middle;\n",
       "    }\n",
       "\n",
       "    .dataframe tbody tr th {\n",
       "        vertical-align: top;\n",
       "    }\n",
       "\n",
       "    .dataframe thead th {\n",
       "        text-align: right;\n",
       "    }\n",
       "</style>\n",
       "<table border=\"1\" class=\"dataframe\">\n",
       "  <thead>\n",
       "    <tr style=\"text-align: right;\">\n",
       "      <th></th>\n",
       "      <th>Account_Length</th>\n",
       "      <th>Vmail_Message</th>\n",
       "      <th>Day_Mins</th>\n",
       "      <th>Eve_Mins</th>\n",
       "      <th>Night_Mins</th>\n",
       "      <th>Intl_Mins</th>\n",
       "      <th>CustServ_Calls</th>\n",
       "      <th>Churn</th>\n",
       "      <th>Intl_Plan</th>\n",
       "      <th>Vmail_Plan</th>\n",
       "      <th>...</th>\n",
       "      <th>Day_Charge</th>\n",
       "      <th>Eve_Calls</th>\n",
       "      <th>Eve_Charge</th>\n",
       "      <th>Night_Calls</th>\n",
       "      <th>Night_Charge</th>\n",
       "      <th>Intl_Calls</th>\n",
       "      <th>Intl_Charge</th>\n",
       "      <th>State</th>\n",
       "      <th>Area_Code</th>\n",
       "      <th>Phone</th>\n",
       "    </tr>\n",
       "  </thead>\n",
       "  <tbody>\n",
       "    <tr>\n",
       "      <th>0</th>\n",
       "      <td>128</td>\n",
       "      <td>25</td>\n",
       "      <td>265.1</td>\n",
       "      <td>197.4</td>\n",
       "      <td>244.7</td>\n",
       "      <td>10.0</td>\n",
       "      <td>1</td>\n",
       "      <td>no</td>\n",
       "      <td>no</td>\n",
       "      <td>yes</td>\n",
       "      <td>...</td>\n",
       "      <td>45.07</td>\n",
       "      <td>99</td>\n",
       "      <td>16.78</td>\n",
       "      <td>91</td>\n",
       "      <td>11.01</td>\n",
       "      <td>3</td>\n",
       "      <td>2.70</td>\n",
       "      <td>KS</td>\n",
       "      <td>415</td>\n",
       "      <td>382-4657</td>\n",
       "    </tr>\n",
       "    <tr>\n",
       "      <th>1</th>\n",
       "      <td>107</td>\n",
       "      <td>26</td>\n",
       "      <td>161.6</td>\n",
       "      <td>195.5</td>\n",
       "      <td>254.4</td>\n",
       "      <td>13.7</td>\n",
       "      <td>1</td>\n",
       "      <td>no</td>\n",
       "      <td>no</td>\n",
       "      <td>yes</td>\n",
       "      <td>...</td>\n",
       "      <td>27.47</td>\n",
       "      <td>103</td>\n",
       "      <td>16.62</td>\n",
       "      <td>103</td>\n",
       "      <td>11.45</td>\n",
       "      <td>3</td>\n",
       "      <td>3.70</td>\n",
       "      <td>OH</td>\n",
       "      <td>415</td>\n",
       "      <td>371-7191</td>\n",
       "    </tr>\n",
       "    <tr>\n",
       "      <th>2</th>\n",
       "      <td>137</td>\n",
       "      <td>0</td>\n",
       "      <td>243.4</td>\n",
       "      <td>121.2</td>\n",
       "      <td>162.6</td>\n",
       "      <td>12.2</td>\n",
       "      <td>0</td>\n",
       "      <td>no</td>\n",
       "      <td>no</td>\n",
       "      <td>no</td>\n",
       "      <td>...</td>\n",
       "      <td>41.38</td>\n",
       "      <td>110</td>\n",
       "      <td>10.30</td>\n",
       "      <td>104</td>\n",
       "      <td>7.32</td>\n",
       "      <td>5</td>\n",
       "      <td>3.29</td>\n",
       "      <td>NJ</td>\n",
       "      <td>415</td>\n",
       "      <td>358-1921</td>\n",
       "    </tr>\n",
       "    <tr>\n",
       "      <th>3</th>\n",
       "      <td>84</td>\n",
       "      <td>0</td>\n",
       "      <td>299.4</td>\n",
       "      <td>61.9</td>\n",
       "      <td>196.9</td>\n",
       "      <td>6.6</td>\n",
       "      <td>2</td>\n",
       "      <td>no</td>\n",
       "      <td>yes</td>\n",
       "      <td>no</td>\n",
       "      <td>...</td>\n",
       "      <td>50.90</td>\n",
       "      <td>88</td>\n",
       "      <td>5.26</td>\n",
       "      <td>89</td>\n",
       "      <td>8.86</td>\n",
       "      <td>7</td>\n",
       "      <td>1.78</td>\n",
       "      <td>OH</td>\n",
       "      <td>408</td>\n",
       "      <td>375-9999</td>\n",
       "    </tr>\n",
       "    <tr>\n",
       "      <th>4</th>\n",
       "      <td>75</td>\n",
       "      <td>0</td>\n",
       "      <td>166.7</td>\n",
       "      <td>148.3</td>\n",
       "      <td>186.9</td>\n",
       "      <td>10.1</td>\n",
       "      <td>3</td>\n",
       "      <td>no</td>\n",
       "      <td>yes</td>\n",
       "      <td>no</td>\n",
       "      <td>...</td>\n",
       "      <td>28.34</td>\n",
       "      <td>122</td>\n",
       "      <td>12.61</td>\n",
       "      <td>121</td>\n",
       "      <td>8.41</td>\n",
       "      <td>3</td>\n",
       "      <td>2.73</td>\n",
       "      <td>OK</td>\n",
       "      <td>415</td>\n",
       "      <td>330-6626</td>\n",
       "    </tr>\n",
       "  </tbody>\n",
       "</table>\n",
       "<p>5 rows × 21 columns</p>\n",
       "</div>"
      ],
      "text/plain": [
       "   Account_Length  Vmail_Message  Day_Mins  Eve_Mins  Night_Mins  Intl_Mins  \\\n",
       "0             128             25     265.1     197.4       244.7       10.0   \n",
       "1             107             26     161.6     195.5       254.4       13.7   \n",
       "2             137              0     243.4     121.2       162.6       12.2   \n",
       "3              84              0     299.4      61.9       196.9        6.6   \n",
       "4              75              0     166.7     148.3       186.9       10.1   \n",
       "\n",
       "   CustServ_Calls Churn Intl_Plan Vmail_Plan  ...  Day_Charge  Eve_Calls  \\\n",
       "0               1    no        no        yes  ...       45.07         99   \n",
       "1               1    no        no        yes  ...       27.47        103   \n",
       "2               0    no        no         no  ...       41.38        110   \n",
       "3               2    no       yes         no  ...       50.90         88   \n",
       "4               3    no       yes         no  ...       28.34        122   \n",
       "\n",
       "   Eve_Charge  Night_Calls  Night_Charge  Intl_Calls  Intl_Charge  State  \\\n",
       "0       16.78           91         11.01           3         2.70     KS   \n",
       "1       16.62          103         11.45           3         3.70     OH   \n",
       "2       10.30          104          7.32           5         3.29     NJ   \n",
       "3        5.26           89          8.86           7         1.78     OH   \n",
       "4       12.61          121          8.41           3         2.73     OK   \n",
       "\n",
       "  Area_Code     Phone  \n",
       "0       415  382-4657  \n",
       "1       415  371-7191  \n",
       "2       415  358-1921  \n",
       "3       408  375-9999  \n",
       "4       415  330-6626  \n",
       "\n",
       "[5 rows x 21 columns]"
      ]
     },
     "metadata": {},
     "output_type": "display_data"
    }
   ],
   "source": [
    "df = pd.read_csv(\"Churn.csv\")\n",
    "\n",
    "display(df.head())"
   ]
  },
  {
   "cell_type": "code",
   "execution_count": 3,
   "id": "1644ae30",
   "metadata": {},
   "outputs": [
    {
     "name": "stdout",
     "output_type": "stream",
     "text": [
      "(3333, 21)\n"
     ]
    }
   ],
   "source": [
    "print(df.shape)"
   ]
  },
  {
   "cell_type": "code",
   "execution_count": 4,
   "id": "aa212c14",
   "metadata": {},
   "outputs": [
    {
     "name": "stdout",
     "output_type": "stream",
     "text": [
      "<class 'pandas.core.frame.DataFrame'>\n",
      "RangeIndex: 3333 entries, 0 to 3332\n",
      "Data columns (total 21 columns):\n",
      " #   Column          Non-Null Count  Dtype  \n",
      "---  ------          --------------  -----  \n",
      " 0   Account_Length  3333 non-null   int64  \n",
      " 1   Vmail_Message   3333 non-null   int64  \n",
      " 2   Day_Mins        3333 non-null   float64\n",
      " 3   Eve_Mins        3333 non-null   float64\n",
      " 4   Night_Mins      3333 non-null   float64\n",
      " 5   Intl_Mins       3333 non-null   float64\n",
      " 6   CustServ_Calls  3333 non-null   int64  \n",
      " 7   Churn           3333 non-null   object \n",
      " 8   Intl_Plan       3333 non-null   object \n",
      " 9   Vmail_Plan      3333 non-null   object \n",
      " 10  Day_Calls       3333 non-null   int64  \n",
      " 11  Day_Charge      3333 non-null   float64\n",
      " 12  Eve_Calls       3333 non-null   int64  \n",
      " 13  Eve_Charge      3333 non-null   float64\n",
      " 14  Night_Calls     3333 non-null   int64  \n",
      " 15  Night_Charge    3333 non-null   float64\n",
      " 16  Intl_Calls      3333 non-null   int64  \n",
      " 17  Intl_Charge     3333 non-null   float64\n",
      " 18  State           3333 non-null   object \n",
      " 19  Area_Code       3333 non-null   int64  \n",
      " 20  Phone           3333 non-null   object \n",
      "dtypes: float64(8), int64(8), object(5)\n",
      "memory usage: 546.9+ KB\n"
     ]
    }
   ],
   "source": [
    "df.info()"
   ]
  },
  {
   "cell_type": "code",
   "execution_count": 5,
   "id": "fa5baaac",
   "metadata": {},
   "outputs": [],
   "source": [
    "#df.columns"
   ]
  },
  {
   "cell_type": "markdown",
   "id": "2d39e81d",
   "metadata": {},
   "source": [
    "### Data preprocessing"
   ]
  },
  {
   "cell_type": "code",
   "execution_count": 6,
   "id": "a6841f7c",
   "metadata": {},
   "outputs": [
    {
     "name": "stdout",
     "output_type": "stream",
     "text": [
      "['no' 'yes']\n",
      "['no' 'yes']\n",
      "['yes' 'no']\n"
     ]
    }
   ],
   "source": [
    "print(df['Churn'].unique())\n",
    "print(df['Intl_Plan'].unique())\n",
    "print(df['Vmail_Plan'].unique())\n",
    "\n"
   ]
  },
  {
   "cell_type": "markdown",
   "id": "b762b0c1",
   "metadata": {},
   "source": [
    "### Encoding"
   ]
  },
  {
   "cell_type": "markdown",
   "id": "6ec0d4e9",
   "metadata": {},
   "source": [
    "*As columns like \"State\", \"Area_Code\", and \"Phone\" seem less important, we'll drope these columns. Also \"Churn\", \"Intl_Plan\", and \"Vmail_Plan\", each has only discrete values like \"yes\" or \"no\", we can perform OneHot Encoding or simply can replace them with 0 and 1*"
   ]
  },
  {
   "cell_type": "code",
   "execution_count": 7,
   "id": "e1105636",
   "metadata": {},
   "outputs": [
    {
     "data": {
      "text/html": [
       "<div>\n",
       "<style scoped>\n",
       "    .dataframe tbody tr th:only-of-type {\n",
       "        vertical-align: middle;\n",
       "    }\n",
       "\n",
       "    .dataframe tbody tr th {\n",
       "        vertical-align: top;\n",
       "    }\n",
       "\n",
       "    .dataframe thead th {\n",
       "        text-align: right;\n",
       "    }\n",
       "</style>\n",
       "<table border=\"1\" class=\"dataframe\">\n",
       "  <thead>\n",
       "    <tr style=\"text-align: right;\">\n",
       "      <th></th>\n",
       "      <th>Account_Length</th>\n",
       "      <th>Vmail_Message</th>\n",
       "      <th>Day_Mins</th>\n",
       "      <th>Eve_Mins</th>\n",
       "      <th>Night_Mins</th>\n",
       "      <th>Intl_Mins</th>\n",
       "      <th>CustServ_Calls</th>\n",
       "      <th>Churn</th>\n",
       "      <th>Intl_Plan</th>\n",
       "      <th>Vmail_Plan</th>\n",
       "      <th>Day_Calls</th>\n",
       "      <th>Day_Charge</th>\n",
       "      <th>Eve_Calls</th>\n",
       "      <th>Eve_Charge</th>\n",
       "      <th>Night_Calls</th>\n",
       "      <th>Night_Charge</th>\n",
       "      <th>Intl_Calls</th>\n",
       "      <th>Intl_Charge</th>\n",
       "    </tr>\n",
       "  </thead>\n",
       "  <tbody>\n",
       "    <tr>\n",
       "      <th>0</th>\n",
       "      <td>128</td>\n",
       "      <td>25</td>\n",
       "      <td>265.1</td>\n",
       "      <td>197.4</td>\n",
       "      <td>244.7</td>\n",
       "      <td>10.0</td>\n",
       "      <td>1</td>\n",
       "      <td>0</td>\n",
       "      <td>0</td>\n",
       "      <td>1</td>\n",
       "      <td>110</td>\n",
       "      <td>45.07</td>\n",
       "      <td>99</td>\n",
       "      <td>16.78</td>\n",
       "      <td>91</td>\n",
       "      <td>11.01</td>\n",
       "      <td>3</td>\n",
       "      <td>2.70</td>\n",
       "    </tr>\n",
       "    <tr>\n",
       "      <th>1</th>\n",
       "      <td>107</td>\n",
       "      <td>26</td>\n",
       "      <td>161.6</td>\n",
       "      <td>195.5</td>\n",
       "      <td>254.4</td>\n",
       "      <td>13.7</td>\n",
       "      <td>1</td>\n",
       "      <td>0</td>\n",
       "      <td>0</td>\n",
       "      <td>1</td>\n",
       "      <td>123</td>\n",
       "      <td>27.47</td>\n",
       "      <td>103</td>\n",
       "      <td>16.62</td>\n",
       "      <td>103</td>\n",
       "      <td>11.45</td>\n",
       "      <td>3</td>\n",
       "      <td>3.70</td>\n",
       "    </tr>\n",
       "    <tr>\n",
       "      <th>2</th>\n",
       "      <td>137</td>\n",
       "      <td>0</td>\n",
       "      <td>243.4</td>\n",
       "      <td>121.2</td>\n",
       "      <td>162.6</td>\n",
       "      <td>12.2</td>\n",
       "      <td>0</td>\n",
       "      <td>0</td>\n",
       "      <td>0</td>\n",
       "      <td>0</td>\n",
       "      <td>114</td>\n",
       "      <td>41.38</td>\n",
       "      <td>110</td>\n",
       "      <td>10.30</td>\n",
       "      <td>104</td>\n",
       "      <td>7.32</td>\n",
       "      <td>5</td>\n",
       "      <td>3.29</td>\n",
       "    </tr>\n",
       "    <tr>\n",
       "      <th>3</th>\n",
       "      <td>84</td>\n",
       "      <td>0</td>\n",
       "      <td>299.4</td>\n",
       "      <td>61.9</td>\n",
       "      <td>196.9</td>\n",
       "      <td>6.6</td>\n",
       "      <td>2</td>\n",
       "      <td>0</td>\n",
       "      <td>1</td>\n",
       "      <td>0</td>\n",
       "      <td>71</td>\n",
       "      <td>50.90</td>\n",
       "      <td>88</td>\n",
       "      <td>5.26</td>\n",
       "      <td>89</td>\n",
       "      <td>8.86</td>\n",
       "      <td>7</td>\n",
       "      <td>1.78</td>\n",
       "    </tr>\n",
       "    <tr>\n",
       "      <th>4</th>\n",
       "      <td>75</td>\n",
       "      <td>0</td>\n",
       "      <td>166.7</td>\n",
       "      <td>148.3</td>\n",
       "      <td>186.9</td>\n",
       "      <td>10.1</td>\n",
       "      <td>3</td>\n",
       "      <td>0</td>\n",
       "      <td>1</td>\n",
       "      <td>0</td>\n",
       "      <td>113</td>\n",
       "      <td>28.34</td>\n",
       "      <td>122</td>\n",
       "      <td>12.61</td>\n",
       "      <td>121</td>\n",
       "      <td>8.41</td>\n",
       "      <td>3</td>\n",
       "      <td>2.73</td>\n",
       "    </tr>\n",
       "  </tbody>\n",
       "</table>\n",
       "</div>"
      ],
      "text/plain": [
       "   Account_Length  Vmail_Message  Day_Mins  Eve_Mins  Night_Mins  Intl_Mins  \\\n",
       "0             128             25     265.1     197.4       244.7       10.0   \n",
       "1             107             26     161.6     195.5       254.4       13.7   \n",
       "2             137              0     243.4     121.2       162.6       12.2   \n",
       "3              84              0     299.4      61.9       196.9        6.6   \n",
       "4              75              0     166.7     148.3       186.9       10.1   \n",
       "\n",
       "   CustServ_Calls  Churn  Intl_Plan  Vmail_Plan  Day_Calls  Day_Charge  \\\n",
       "0               1      0          0           1        110       45.07   \n",
       "1               1      0          0           1        123       27.47   \n",
       "2               0      0          0           0        114       41.38   \n",
       "3               2      0          1           0         71       50.90   \n",
       "4               3      0          1           0        113       28.34   \n",
       "\n",
       "   Eve_Calls  Eve_Charge  Night_Calls  Night_Charge  Intl_Calls  Intl_Charge  \n",
       "0         99       16.78           91         11.01           3         2.70  \n",
       "1        103       16.62          103         11.45           3         3.70  \n",
       "2        110       10.30          104          7.32           5         3.29  \n",
       "3         88        5.26           89          8.86           7         1.78  \n",
       "4        122       12.61          121          8.41           3         2.73  "
      ]
     },
     "metadata": {},
     "output_type": "display_data"
    },
    {
     "name": "stdout",
     "output_type": "stream",
     "text": [
      "(3333, 18)\n"
     ]
    }
   ],
   "source": [
    "df = df.drop(['State', 'Area_Code', 'Phone'], axis=1)\n",
    "\n",
    "df['Churn'] = df['Churn'].replace(({'no':0, 'yes':1}))\n",
    "df['Intl_Plan'] = df['Intl_Plan'].replace(({'no':0, 'yes':1}))\n",
    "df['Vmail_Plan'] = df['Vmail_Plan'].replace(({'no':0, 'yes':1}))\n",
    "\n",
    "display(df.head())\n",
    "print(df.shape)"
   ]
  },
  {
   "cell_type": "code",
   "execution_count": 8,
   "id": "bb5f2254",
   "metadata": {},
   "outputs": [
    {
     "name": "stdout",
     "output_type": "stream",
     "text": [
      "<class 'pandas.core.frame.DataFrame'>\n",
      "RangeIndex: 3333 entries, 0 to 3332\n",
      "Data columns (total 18 columns):\n",
      " #   Column          Non-Null Count  Dtype  \n",
      "---  ------          --------------  -----  \n",
      " 0   Account_Length  3333 non-null   int64  \n",
      " 1   Vmail_Message   3333 non-null   int64  \n",
      " 2   Day_Mins        3333 non-null   float64\n",
      " 3   Eve_Mins        3333 non-null   float64\n",
      " 4   Night_Mins      3333 non-null   float64\n",
      " 5   Intl_Mins       3333 non-null   float64\n",
      " 6   CustServ_Calls  3333 non-null   int64  \n",
      " 7   Churn           3333 non-null   int64  \n",
      " 8   Intl_Plan       3333 non-null   int64  \n",
      " 9   Vmail_Plan      3333 non-null   int64  \n",
      " 10  Day_Calls       3333 non-null   int64  \n",
      " 11  Day_Charge      3333 non-null   float64\n",
      " 12  Eve_Calls       3333 non-null   int64  \n",
      " 13  Eve_Charge      3333 non-null   float64\n",
      " 14  Night_Calls     3333 non-null   int64  \n",
      " 15  Night_Charge    3333 non-null   float64\n",
      " 16  Intl_Calls      3333 non-null   int64  \n",
      " 17  Intl_Charge     3333 non-null   float64\n",
      "dtypes: float64(8), int64(10)\n",
      "memory usage: 468.8 KB\n"
     ]
    }
   ],
   "source": [
    "df.info()"
   ]
  },
  {
   "cell_type": "markdown",
   "id": "0f1a0c9b",
   "metadata": {},
   "source": [
    "### Checking missing value"
   ]
  },
  {
   "cell_type": "code",
   "execution_count": 9,
   "id": "ae6792b8",
   "metadata": {},
   "outputs": [],
   "source": [
    "#check missing value \n",
    "#df.isna().sum()\n",
    "#df.isnull().sum()"
   ]
  },
  {
   "cell_type": "markdown",
   "id": "1ad22875",
   "metadata": {},
   "source": [
    "> **There is no missing value in this dataset.**"
   ]
  },
  {
   "cell_type": "markdown",
   "id": "d0ca75b1",
   "metadata": {},
   "source": [
    "### Target variable"
   ]
  },
  {
   "cell_type": "code",
   "execution_count": 10,
   "id": "f5775cd7",
   "metadata": {},
   "outputs": [
    {
     "data": {
      "text/plain": [
       "0    2850\n",
       "1     483\n",
       "Name: Churn, dtype: int64"
      ]
     },
     "execution_count": 10,
     "metadata": {},
     "output_type": "execute_result"
    }
   ],
   "source": [
    "df['Churn'].value_counts()"
   ]
  },
  {
   "cell_type": "markdown",
   "id": "03a71605",
   "metadata": {},
   "source": [
    "### Feature and target variable separation"
   ]
  },
  {
   "cell_type": "code",
   "execution_count": 11,
   "id": "605bf9b4",
   "metadata": {},
   "outputs": [
    {
     "name": "stdout",
     "output_type": "stream",
     "text": [
      "Features: (3333, 17)\n",
      "Targets: (3333, 1)\n"
     ]
    }
   ],
   "source": [
    "X = df.drop('Churn', axis=1)\n",
    "y = df[['Churn']]\n",
    "\n",
    "print(\"Features:\" , X.shape)\n",
    "print(\"Targets:\" , y.shape)"
   ]
  },
  {
   "cell_type": "markdown",
   "id": "17e465fa",
   "metadata": {},
   "source": [
    "### Data Transformation (StandardScaler or MinMaxScaler)"
   ]
  },
  {
   "cell_type": "code",
   "execution_count": 12,
   "id": "3a9e3c51",
   "metadata": {},
   "outputs": [
    {
     "data": {
      "text/html": [
       "<div>\n",
       "<style scoped>\n",
       "    .dataframe tbody tr th:only-of-type {\n",
       "        vertical-align: middle;\n",
       "    }\n",
       "\n",
       "    .dataframe tbody tr th {\n",
       "        vertical-align: top;\n",
       "    }\n",
       "\n",
       "    .dataframe thead th {\n",
       "        text-align: right;\n",
       "    }\n",
       "</style>\n",
       "<table border=\"1\" class=\"dataframe\">\n",
       "  <thead>\n",
       "    <tr style=\"text-align: right;\">\n",
       "      <th></th>\n",
       "      <th>Account_Length</th>\n",
       "      <th>Vmail_Message</th>\n",
       "      <th>Day_Mins</th>\n",
       "      <th>Eve_Mins</th>\n",
       "      <th>Night_Mins</th>\n",
       "      <th>Intl_Mins</th>\n",
       "      <th>CustServ_Calls</th>\n",
       "      <th>Intl_Plan</th>\n",
       "      <th>Vmail_Plan</th>\n",
       "      <th>Day_Calls</th>\n",
       "      <th>Day_Charge</th>\n",
       "      <th>Eve_Calls</th>\n",
       "      <th>Eve_Charge</th>\n",
       "      <th>Night_Calls</th>\n",
       "      <th>Night_Charge</th>\n",
       "      <th>Intl_Calls</th>\n",
       "      <th>Intl_Charge</th>\n",
       "    </tr>\n",
       "  </thead>\n",
       "  <tbody>\n",
       "    <tr>\n",
       "      <th>1704</th>\n",
       "      <td>1.078337</td>\n",
       "      <td>-0.591760</td>\n",
       "      <td>1.812823</td>\n",
       "      <td>0.783329</td>\n",
       "      <td>-1.599328</td>\n",
       "      <td>0.488177</td>\n",
       "      <td>-0.427932</td>\n",
       "      <td>-0.327580</td>\n",
       "      <td>-0.618396</td>\n",
       "      <td>-0.270887</td>\n",
       "      <td>1.813309</td>\n",
       "      <td>-0.507756</td>\n",
       "      <td>0.783398</td>\n",
       "      <td>-0.516604</td>\n",
       "      <td>-1.599330</td>\n",
       "      <td>0.211534</td>\n",
       "      <td>0.484859</td>\n",
       "    </tr>\n",
       "    <tr>\n",
       "      <th>1</th>\n",
       "      <td>0.149065</td>\n",
       "      <td>1.307948</td>\n",
       "      <td>-0.333738</td>\n",
       "      <td>-0.108080</td>\n",
       "      <td>1.058571</td>\n",
       "      <td>1.240482</td>\n",
       "      <td>-0.427932</td>\n",
       "      <td>-0.327580</td>\n",
       "      <td>1.617086</td>\n",
       "      <td>1.124503</td>\n",
       "      <td>-0.334013</td>\n",
       "      <td>0.144867</td>\n",
       "      <td>-0.107549</td>\n",
       "      <td>0.147825</td>\n",
       "      <td>1.059390</td>\n",
       "      <td>-0.601195</td>\n",
       "      <td>1.241169</td>\n",
       "    </tr>\n",
       "    <tr>\n",
       "      <th>2173</th>\n",
       "      <td>-1.357862</td>\n",
       "      <td>-0.591760</td>\n",
       "      <td>-2.423375</td>\n",
       "      <td>-0.435456</td>\n",
       "      <td>-0.954629</td>\n",
       "      <td>1.097185</td>\n",
       "      <td>-1.188218</td>\n",
       "      <td>3.052685</td>\n",
       "      <td>-0.618396</td>\n",
       "      <td>0.974997</td>\n",
       "      <td>-2.423007</td>\n",
       "      <td>1.148901</td>\n",
       "      <td>-0.434694</td>\n",
       "      <td>-0.209945</td>\n",
       "      <td>-0.953327</td>\n",
       "      <td>1.024263</td>\n",
       "      <td>1.095214</td>\n",
       "    </tr>\n",
       "    <tr>\n",
       "      <th>2986</th>\n",
       "      <td>-0.303013</td>\n",
       "      <td>0.285029</td>\n",
       "      <td>0.151029</td>\n",
       "      <td>-0.979768</td>\n",
       "      <td>0.020329</td>\n",
       "      <td>0.094112</td>\n",
       "      <td>0.332354</td>\n",
       "      <td>-0.327580</td>\n",
       "      <td>1.617086</td>\n",
       "      <td>0.227466</td>\n",
       "      <td>0.150971</td>\n",
       "      <td>0.345673</td>\n",
       "      <td>-0.979935</td>\n",
       "      <td>1.630012</td>\n",
       "      <td>0.022270</td>\n",
       "      <td>-0.601195</td>\n",
       "      <td>0.100070</td>\n",
       "    </tr>\n",
       "    <tr>\n",
       "      <th>2409</th>\n",
       "      <td>2.057839</td>\n",
       "      <td>-0.007234</td>\n",
       "      <td>-1.712751</td>\n",
       "      <td>1.660933</td>\n",
       "      <td>-0.404856</td>\n",
       "      <td>-0.550721</td>\n",
       "      <td>0.332354</td>\n",
       "      <td>-0.327580</td>\n",
       "      <td>1.617086</td>\n",
       "      <td>0.925161</td>\n",
       "      <td>-1.712274</td>\n",
       "      <td>-0.156344</td>\n",
       "      <td>1.660423</td>\n",
       "      <td>1.681122</td>\n",
       "      <td>-0.404005</td>\n",
       "      <td>-1.007560</td>\n",
       "      <td>-0.550091</td>\n",
       "    </tr>\n",
       "  </tbody>\n",
       "</table>\n",
       "</div>"
      ],
      "text/plain": [
       "      Account_Length  Vmail_Message  Day_Mins  Eve_Mins  Night_Mins  \\\n",
       "1704        1.078337      -0.591760  1.812823  0.783329   -1.599328   \n",
       "1           0.149065       1.307948 -0.333738 -0.108080    1.058571   \n",
       "2173       -1.357862      -0.591760 -2.423375 -0.435456   -0.954629   \n",
       "2986       -0.303013       0.285029  0.151029 -0.979768    0.020329   \n",
       "2409        2.057839      -0.007234 -1.712751  1.660933   -0.404856   \n",
       "\n",
       "      Intl_Mins  CustServ_Calls  Intl_Plan  Vmail_Plan  Day_Calls  Day_Charge  \\\n",
       "1704   0.488177       -0.427932  -0.327580   -0.618396  -0.270887    1.813309   \n",
       "1      1.240482       -0.427932  -0.327580    1.617086   1.124503   -0.334013   \n",
       "2173   1.097185       -1.188218   3.052685   -0.618396   0.974997   -2.423007   \n",
       "2986   0.094112        0.332354  -0.327580    1.617086   0.227466    0.150971   \n",
       "2409  -0.550721        0.332354  -0.327580    1.617086   0.925161   -1.712274   \n",
       "\n",
       "      Eve_Calls  Eve_Charge  Night_Calls  Night_Charge  Intl_Calls  \\\n",
       "1704  -0.507756    0.783398    -0.516604     -1.599330    0.211534   \n",
       "1      0.144867   -0.107549     0.147825      1.059390   -0.601195   \n",
       "2173   1.148901   -0.434694    -0.209945     -0.953327    1.024263   \n",
       "2986   0.345673   -0.979935     1.630012      0.022270   -0.601195   \n",
       "2409  -0.156344    1.660423     1.681122     -0.404005   -1.007560   \n",
       "\n",
       "      Intl_Charge  \n",
       "1704     0.484859  \n",
       "1        1.241169  \n",
       "2173     1.095214  \n",
       "2986     0.100070  \n",
       "2409    -0.550091  "
      ]
     },
     "metadata": {},
     "output_type": "display_data"
    }
   ],
   "source": [
    "# # normalize the feature columns\n",
    "# scaler = MinMaxScaler()\n",
    "scaler = StandardScaler()\n",
    "\n",
    "\n",
    "for col in X.columns:\n",
    "    X[col] = scaler.fit_transform(X[[col]])\n",
    "\n",
    "display(X.sample(5))\n"
   ]
  },
  {
   "cell_type": "markdown",
   "id": "dbf0c503",
   "metadata": {},
   "source": [
    "### Observation :\n",
    "\n",
    "> There is no significant difference in accuracy metrics before and after applying Data Transformation (StandardScaler or MinMaxScaler)\n",
    "\n",
    "###### *Q.* Is it necessary to standardize or normalize data for tree-based machine learning models?\n",
    "Logistic Regression and Tree based algorithms such as Decision Tree, Random forest and gradient boosting, are not sensitive to the magnitude of variables. So standardization is not needed before fitting these kinds of models.\n",
    "<a href=\"https://builtin.com/data-science/when-and-why-standardize-your-data\">source</a>\n",
    "\n",
    "Decision trees and ensemble methods do not require feature scaling to be performed as they are not sensitive to the the variance in the data.\n",
    "<a href=\"https://towardsdatascience.com/do-decision-trees-need-feature-scaling-97809eaa60c6\">source</a>\n"
   ]
  },
  {
   "cell_type": "markdown",
   "id": "9b61bacd",
   "metadata": {},
   "source": [
    "### Train test separation"
   ]
  },
  {
   "cell_type": "code",
   "execution_count": 13,
   "id": "764975b3",
   "metadata": {},
   "outputs": [
    {
     "name": "stdout",
     "output_type": "stream",
     "text": [
      "(2666, 17) (667, 17) (2666, 1) (667, 1)\n"
     ]
    }
   ],
   "source": [
    "X_train, X_test, y_train, y_test = train_test_split(X, \n",
    "                                                    y, \n",
    "                                                    test_size=0.2, \n",
    "                                                    random_state=11, stratify=y)\n",
    "\n",
    "print(X_train.shape, X_test.shape, y_train.shape, y_test.shape)"
   ]
  },
  {
   "cell_type": "code",
   "execution_count": 14,
   "id": "13eb7dba",
   "metadata": {},
   "outputs": [
    {
     "name": "stdout",
     "output_type": "stream",
     "text": [
      "0    2280\n",
      "1     386\n",
      "Name: Churn, dtype: int64\n",
      "0    570\n",
      "1     97\n",
      "Name: Churn, dtype: int64\n"
     ]
    }
   ],
   "source": [
    "print(y_train[\"Churn\"].value_counts())\n",
    "print(y_test[\"Churn\"].value_counts())"
   ]
  },
  {
   "cell_type": "markdown",
   "id": "53b51c48",
   "metadata": {},
   "source": [
    "### Stratification "
   ]
  },
  {
   "cell_type": "code",
   "execution_count": 15,
   "id": "8f0ba8a7",
   "metadata": {},
   "outputs": [],
   "source": [
    "class_0_train = y_train['Churn'].value_counts().values[0]\n",
    "class_1_train = y_train['Churn'].value_counts().values[1]\n",
    "\n",
    "# train_ratio = class_1_train/class_0_train\n",
    "# print(train_ratio)"
   ]
  },
  {
   "cell_type": "code",
   "execution_count": 16,
   "id": "80d5183f",
   "metadata": {},
   "outputs": [],
   "source": [
    "class_0_test = y_test['Churn'].value_counts().values[0]\n",
    "class_1_test = y_test['Churn'].value_counts().values[1]\n",
    "\n",
    "# test_ratio = class_1_test/class_0_test\n",
    "# print(test_ratio)"
   ]
  },
  {
   "cell_type": "markdown",
   "id": "f3e5bb9f",
   "metadata": {},
   "source": [
    "### Training: Decision Tree Classifier"
   ]
  },
  {
   "cell_type": "code",
   "execution_count": 17,
   "id": "9fb3e6dd",
   "metadata": {},
   "outputs": [],
   "source": [
    "model = DecisionTreeClassifier()\n",
    "model = model.fit(X_train, y_train)"
   ]
  },
  {
   "cell_type": "code",
   "execution_count": 18,
   "id": "5404cc36",
   "metadata": {},
   "outputs": [
    {
     "data": {
      "image/png": "[encoded data removed]",
      "text/plain": [
       "<Figure size 864x864 with 1 Axes>"
      ]
     },
     "metadata": {
      "needs_background": "light"
     },
     "output_type": "display_data"
    }
   ],
   "source": [
    "plt.figure(figsize = (12, 12))\n",
    "plot_tree(model, \n",
    "          filled=True,\n",
    "          rounded=True,\n",
    "          class_names = [\"will not churn\", \"will churn\"],\n",
    "          feature_names = X.columns,\n",
    "          max_depth=2, \n",
    "          fontsize=14)\n",
    "\n",
    "plt.show()"
   ]
  },
  {
   "cell_type": "markdown",
   "id": "5b10d137",
   "metadata": {},
   "source": [
    "### Prediction"
   ]
  },
  {
   "cell_type": "code",
   "execution_count": 19,
   "id": "b1c91c3c",
   "metadata": {},
   "outputs": [],
   "source": [
    "y_pred = model.predict(X_test)\n"
   ]
  },
  {
   "cell_type": "markdown",
   "id": "b65144b4",
   "metadata": {},
   "source": [
    "### Prediction Comparison with the test data"
   ]
  },
  {
   "cell_type": "code",
   "execution_count": 20,
   "id": "2492ce9c",
   "metadata": {},
   "outputs": [
    {
     "data": {
      "text/html": [
       "<div>\n",
       "<style scoped>\n",
       "    .dataframe tbody tr th:only-of-type {\n",
       "        vertical-align: middle;\n",
       "    }\n",
       "\n",
       "    .dataframe tbody tr th {\n",
       "        vertical-align: top;\n",
       "    }\n",
       "\n",
       "    .dataframe thead th {\n",
       "        text-align: right;\n",
       "    }\n",
       "</style>\n",
       "<table border=\"1\" class=\"dataframe\">\n",
       "  <thead>\n",
       "    <tr style=\"text-align: right;\">\n",
       "      <th></th>\n",
       "      <th>Churn</th>\n",
       "      <th>probability</th>\n",
       "      <th>predicted_Churn</th>\n",
       "    </tr>\n",
       "  </thead>\n",
       "  <tbody>\n",
       "    <tr>\n",
       "      <th>1655</th>\n",
       "      <td>0</td>\n",
       "      <td>0.0</td>\n",
       "      <td>0</td>\n",
       "    </tr>\n",
       "    <tr>\n",
       "      <th>3129</th>\n",
       "      <td>0</td>\n",
       "      <td>0.0</td>\n",
       "      <td>0</td>\n",
       "    </tr>\n",
       "    <tr>\n",
       "      <th>2167</th>\n",
       "      <td>0</td>\n",
       "      <td>0.0</td>\n",
       "      <td>0</td>\n",
       "    </tr>\n",
       "    <tr>\n",
       "      <th>2172</th>\n",
       "      <td>0</td>\n",
       "      <td>0.0</td>\n",
       "      <td>0</td>\n",
       "    </tr>\n",
       "    <tr>\n",
       "      <th>1954</th>\n",
       "      <td>1</td>\n",
       "      <td>1.0</td>\n",
       "      <td>1</td>\n",
       "    </tr>\n",
       "  </tbody>\n",
       "</table>\n",
       "</div>"
      ],
      "text/plain": [
       "      Churn  probability  predicted_Churn\n",
       "1655      0          0.0                0\n",
       "3129      0          0.0                0\n",
       "2167      0          0.0                0\n",
       "2172      0          0.0                0\n",
       "1954      1          1.0                1"
      ]
     },
     "metadata": {},
     "output_type": "display_data"
    }
   ],
   "source": [
    "y_test['probability'] = np.round(model.predict_proba(X_test)[:,1], 2)\n",
    "y_test['predicted_Churn'] = y_pred\n",
    "\n",
    "display(y_test.sample(5))"
   ]
  },
  {
   "cell_type": "code",
   "execution_count": 21,
   "id": "297592ef",
   "metadata": {},
   "outputs": [
    {
     "data": {
      "text/html": [
       "<div>\n",
       "<style scoped>\n",
       "    .dataframe tbody tr th:only-of-type {\n",
       "        vertical-align: middle;\n",
       "    }\n",
       "\n",
       "    .dataframe tbody tr th {\n",
       "        vertical-align: top;\n",
       "    }\n",
       "\n",
       "    .dataframe thead th {\n",
       "        text-align: right;\n",
       "    }\n",
       "</style>\n",
       "<table border=\"1\" class=\"dataframe\">\n",
       "  <thead>\n",
       "    <tr style=\"text-align: right;\">\n",
       "      <th></th>\n",
       "      <th>Account_Length</th>\n",
       "      <th>Vmail_Message</th>\n",
       "      <th>Day_Mins</th>\n",
       "      <th>Eve_Mins</th>\n",
       "      <th>Night_Mins</th>\n",
       "      <th>Intl_Mins</th>\n",
       "      <th>CustServ_Calls</th>\n",
       "      <th>Intl_Plan</th>\n",
       "      <th>Vmail_Plan</th>\n",
       "      <th>Day_Calls</th>\n",
       "      <th>Day_Charge</th>\n",
       "      <th>Eve_Calls</th>\n",
       "      <th>Eve_Charge</th>\n",
       "      <th>Night_Calls</th>\n",
       "      <th>Night_Charge</th>\n",
       "      <th>Intl_Calls</th>\n",
       "      <th>Intl_Charge</th>\n",
       "      <th>Churn</th>\n",
       "      <th>probability</th>\n",
       "      <th>predicted_Churn</th>\n",
       "    </tr>\n",
       "  </thead>\n",
       "  <tbody>\n",
       "    <tr>\n",
       "      <th>0</th>\n",
       "      <td>0.676489</td>\n",
       "      <td>1.234883</td>\n",
       "      <td>1.566767</td>\n",
       "      <td>-0.070610</td>\n",
       "      <td>0.866743</td>\n",
       "      <td>-0.085008</td>\n",
       "      <td>-0.427932</td>\n",
       "      <td>-0.32758</td>\n",
       "      <td>1.617086</td>\n",
       "      <td>0.476643</td>\n",
       "      <td>1.567036</td>\n",
       "      <td>-0.055940</td>\n",
       "      <td>-0.070427</td>\n",
       "      <td>-0.465494</td>\n",
       "      <td>0.866029</td>\n",
       "      <td>-0.601195</td>\n",
       "      <td>-0.085690</td>\n",
       "      <td>0</td>\n",
       "      <td>0.0</td>\n",
       "      <td>0</td>\n",
       "    </tr>\n",
       "    <tr>\n",
       "      <th>3175</th>\n",
       "      <td>-1.257400</td>\n",
       "      <td>1.454080</td>\n",
       "      <td>1.779770</td>\n",
       "      <td>0.053635</td>\n",
       "      <td>0.896407</td>\n",
       "      <td>-0.694017</td>\n",
       "      <td>-1.188218</td>\n",
       "      <td>-0.32758</td>\n",
       "      <td>1.617086</td>\n",
       "      <td>1.024832</td>\n",
       "      <td>1.779824</td>\n",
       "      <td>-0.055940</td>\n",
       "      <td>0.052543</td>\n",
       "      <td>-0.618824</td>\n",
       "      <td>0.896791</td>\n",
       "      <td>-0.601195</td>\n",
       "      <td>-0.696046</td>\n",
       "      <td>0</td>\n",
       "      <td>0.0</td>\n",
       "      <td>0</td>\n",
       "    </tr>\n",
       "    <tr>\n",
       "      <th>2048</th>\n",
       "      <td>1.580646</td>\n",
       "      <td>1.381014</td>\n",
       "      <td>-0.368626</td>\n",
       "      <td>-0.634643</td>\n",
       "      <td>0.854878</td>\n",
       "      <td>-0.228304</td>\n",
       "      <td>1.092641</td>\n",
       "      <td>-0.32758</td>\n",
       "      <td>1.617086</td>\n",
       "      <td>0.077960</td>\n",
       "      <td>-0.368578</td>\n",
       "      <td>0.646884</td>\n",
       "      <td>-0.634229</td>\n",
       "      <td>1.374463</td>\n",
       "      <td>0.852845</td>\n",
       "      <td>1.836992</td>\n",
       "      <td>-0.231645</td>\n",
       "      <td>0</td>\n",
       "      <td>0.0</td>\n",
       "      <td>0</td>\n",
       "    </tr>\n",
       "    <tr>\n",
       "      <th>902</th>\n",
       "      <td>1.203914</td>\n",
       "      <td>-0.591760</td>\n",
       "      <td>-0.241926</td>\n",
       "      <td>0.351429</td>\n",
       "      <td>0.146896</td>\n",
       "      <td>-0.729841</td>\n",
       "      <td>4.133787</td>\n",
       "      <td>-0.32758</td>\n",
       "      <td>-0.618396</td>\n",
       "      <td>-1.965290</td>\n",
       "      <td>-0.242201</td>\n",
       "      <td>0.345673</td>\n",
       "      <td>0.351845</td>\n",
       "      <td>1.578902</td>\n",
       "      <td>0.145318</td>\n",
       "      <td>0.617898</td>\n",
       "      <td>-0.735851</td>\n",
       "      <td>0</td>\n",
       "      <td>0.0</td>\n",
       "      <td>0</td>\n",
       "    </tr>\n",
       "    <tr>\n",
       "      <th>1596</th>\n",
       "      <td>-0.956015</td>\n",
       "      <td>2.988460</td>\n",
       "      <td>0.644976</td>\n",
       "      <td>-0.054832</td>\n",
       "      <td>-0.594706</td>\n",
       "      <td>-0.729841</td>\n",
       "      <td>-1.188218</td>\n",
       "      <td>-0.32758</td>\n",
       "      <td>1.617086</td>\n",
       "      <td>-0.719406</td>\n",
       "      <td>0.644595</td>\n",
       "      <td>-0.557958</td>\n",
       "      <td>-0.054185</td>\n",
       "      <td>1.987782</td>\n",
       "      <td>-0.592971</td>\n",
       "      <td>0.211534</td>\n",
       "      <td>-0.735851</td>\n",
       "      <td>0</td>\n",
       "      <td>0.0</td>\n",
       "      <td>0</td>\n",
       "    </tr>\n",
       "  </tbody>\n",
       "</table>\n",
       "</div>"
      ],
      "text/plain": [
       "      Account_Length  Vmail_Message  Day_Mins  Eve_Mins  Night_Mins  \\\n",
       "0           0.676489       1.234883  1.566767 -0.070610    0.866743   \n",
       "3175       -1.257400       1.454080  1.779770  0.053635    0.896407   \n",
       "2048        1.580646       1.381014 -0.368626 -0.634643    0.854878   \n",
       "902         1.203914      -0.591760 -0.241926  0.351429    0.146896   \n",
       "1596       -0.956015       2.988460  0.644976 -0.054832   -0.594706   \n",
       "\n",
       "      Intl_Mins  CustServ_Calls  Intl_Plan  Vmail_Plan  Day_Calls  Day_Charge  \\\n",
       "0     -0.085008       -0.427932   -0.32758    1.617086   0.476643    1.567036   \n",
       "3175  -0.694017       -1.188218   -0.32758    1.617086   1.024832    1.779824   \n",
       "2048  -0.228304        1.092641   -0.32758    1.617086   0.077960   -0.368578   \n",
       "902   -0.729841        4.133787   -0.32758   -0.618396  -1.965290   -0.242201   \n",
       "1596  -0.729841       -1.188218   -0.32758    1.617086  -0.719406    0.644595   \n",
       "\n",
       "      Eve_Calls  Eve_Charge  Night_Calls  Night_Charge  Intl_Calls  \\\n",
       "0     -0.055940   -0.070427    -0.465494      0.866029   -0.601195   \n",
       "3175  -0.055940    0.052543    -0.618824      0.896791   -0.601195   \n",
       "2048   0.646884   -0.634229     1.374463      0.852845    1.836992   \n",
       "902    0.345673    0.351845     1.578902      0.145318    0.617898   \n",
       "1596  -0.557958   -0.054185     1.987782     -0.592971    0.211534   \n",
       "\n",
       "      Intl_Charge  Churn  probability  predicted_Churn  \n",
       "0       -0.085690      0          0.0                0  \n",
       "3175    -0.696046      0          0.0                0  \n",
       "2048    -0.231645      0          0.0                0  \n",
       "902     -0.735851      0          0.0                0  \n",
       "1596    -0.735851      0          0.0                0  "
      ]
     },
     "metadata": {},
     "output_type": "display_data"
    }
   ],
   "source": [
    "test = pd.concat([X_test, y_test], axis=1)\n",
    "display(test.sample(5))"
   ]
  },
  {
   "cell_type": "markdown",
   "id": "09cf8ccb",
   "metadata": {},
   "source": [
    "### Confusion Matrix"
   ]
  },
  {
   "cell_type": "code",
   "execution_count": 22,
   "id": "befdc41e",
   "metadata": {},
   "outputs": [
    {
     "name": "stdout",
     "output_type": "stream",
     "text": [
      "confusion_matrix: \n",
      " [[536  34]\n",
      " [ 26  71]]\n"
     ]
    }
   ],
   "source": [
    "confusion_matrix_ = confusion_matrix(y_test['Churn'], \n",
    "                                     y_test['predicted_Churn'])\n",
    "\n",
    "print('confusion_matrix: \\n', confusion_matrix_)"
   ]
  },
  {
   "cell_type": "code",
   "execution_count": 23,
   "id": "b0551c13",
   "metadata": {},
   "outputs": [
    {
     "data": {
      "text/plain": [
       "0    570\n",
       "1     97\n",
       "Name: Churn, dtype: int64"
      ]
     },
     "execution_count": 23,
     "metadata": {},
     "output_type": "execute_result"
    }
   ],
   "source": [
    "y_test['Churn'].value_counts()"
   ]
  },
  {
   "cell_type": "code",
   "execution_count": 24,
   "id": "7a389321",
   "metadata": {},
   "outputs": [
    {
     "data": {
      "image/png": "[encoded data removed]",
      "text/plain": [
       "<Figure size 432x288 with 2 Axes>"
      ]
     },
     "metadata": {
      "needs_background": "light"
     },
     "output_type": "display_data"
    }
   ],
   "source": [
    "plot_confusion_matrix(model, \n",
    "                      X_test, \n",
    "                      y_test[\"Churn\"], \n",
    "                      display_labels=[\"will not churn\", \"will churn\"],\n",
    "                      cmap='OrRd')\n",
    "plt.show()"
   ]
  },
  {
   "cell_type": "code",
   "execution_count": 25,
   "id": "a27622b0",
   "metadata": {},
   "outputs": [
    {
     "name": "stdout",
     "output_type": "stream",
     "text": [
      "True Positives =  71\n",
      "True Negatives =  536\n",
      "False Positives =  34\n",
      "False Negatives =  26\n"
     ]
    }
   ],
   "source": [
    "TP = confusion_matrix_[1,1]\n",
    "print(\"True Positives = \", TP)\n",
    "\n",
    "TN = confusion_matrix_[0,0]\n",
    "print(\"True Negatives = \", TN)\n",
    "\n",
    "FP = confusion_matrix_[0,1]\n",
    "print(\"False Positives = \", FP)\n",
    "\n",
    "FN = confusion_matrix_[1,0]\n",
    "print(\"False Negatives = \", FN)"
   ]
  },
  {
   "cell_type": "markdown",
   "id": "eb2be946",
   "metadata": {},
   "source": [
    "### Precision, Recall/Sensitivity/True Positive Rate, F1 score"
   ]
  },
  {
   "cell_type": "markdown",
   "id": "9393bd58",
   "metadata": {},
   "source": [
    "**Precision:** Precision can be seen as a measure of a classifier’s exactness. For each class, it is defined as the ratio of true positives to the sum of true and false positives. Said another way, “for all instances classified positive, what percent was correct?”\n",
    "\n",
    "**Recall:** Recall is a measure of the classifier’s completeness; the ability of a classifier to correctly find all positive instances. For each class, it is defined as the ratio of true positives to the sum of true positives and false negatives. Said another way, “for all instances that were actually positive, what percent was classified correctly?”\n",
    "\n",
    "**F1 score:** The F1 score is a weighted harmonic mean of precision and recall such that the best score is 1.0 and the worst is 0.0. Generally speaking, F1 scores are lower than accuracy measures as they embed precision and recall into their computation. As a rule of thumb, the weighted average of F1 should be used to compare classifier models, not global accuracy.\n",
    "\n",
    "**Support:** Support is the number of actual occurrences of the class in the specified dataset. Imbalanced support in the training data may indicate structural weaknesses in the reported scores of the classifier and could indicate the need for stratified sampling or rebalancing. Support doesn’t change between models but instead diagnoses the evaluation process."
   ]
  },
  {
   "cell_type": "markdown",
   "id": "5d876a5a",
   "metadata": {},
   "source": [
    "#### Accuracy"
   ]
  },
  {
   "cell_type": "code",
   "execution_count": 26,
   "id": "62f3368c",
   "metadata": {},
   "outputs": [
    {
     "name": "stdout",
     "output_type": "stream",
     "text": [
      "Accuracy:  91.0\n"
     ]
    }
   ],
   "source": [
    "# calculate the accuracy of the model from the confusion matrix\n",
    "# accuracy = np.round(((TP+TN)/(TP+FP+FN+TN))*100,2)\n",
    "# print('Accuracy: ', accuracy)\n",
    "\n",
    "# calculate the accuracy of the model using the sklearn built-in function\n",
    "accuracy_ = np.round(accuracy_score(y_test['Churn'], \n",
    "                           y_test['predicted_Churn'])*100,2)\n",
    "\n",
    "print('Accuracy: ', accuracy_)"
   ]
  },
  {
   "cell_type": "markdown",
   "id": "5b9cf1f2",
   "metadata": {},
   "source": [
    "#### Precision, Recall, f1 score"
   ]
  },
  {
   "cell_type": "code",
   "execution_count": 27,
   "id": "a3455562",
   "metadata": {},
   "outputs": [
    {
     "name": "stdout",
     "output_type": "stream",
     "text": [
      "Precision =  0.68\n",
      "Recall =  0.73\n",
      "f1 score =  0.7\n"
     ]
    }
   ],
   "source": [
    "#precision = np.round(TP/(TP+FP), 2)\n",
    "#recall = np.round(TP/(TP+FN), 2)\n",
    "#f1_score_ = np.round((2*precision*recall)/(precision+recall), 2)\n",
    "\n",
    "\n",
    "precision_ = np.round(precision_score(y_test['Churn'], \n",
    "                                      y_test['predicted_Churn']), 2)\n",
    "recall_ = np.round(recall_score(y_test['Churn'], \n",
    "                                y_test['predicted_Churn']), 2)\n",
    "f1_score__ = np.round(f1_score(y_test['Churn'], \n",
    "                               y_test['predicted_Churn']), 2)\n",
    "\n",
    "print(\"Precision = \", precision_)\n",
    "print(\"Recall = \", recall_)\n",
    "print(\"f1 score = \", f1_score__)"
   ]
  },
  {
   "cell_type": "markdown",
   "id": "6d0b6aad",
   "metadata": {},
   "source": [
    "#### True Positive Rate, False Positive Rate"
   ]
  },
  {
   "cell_type": "code",
   "execution_count": 28,
   "id": "5b12e174",
   "metadata": {},
   "outputs": [
    {
     "name": "stdout",
     "output_type": "stream",
     "text": [
      "True Positive Rate =  0.73\n",
      "False Positive Rate =  0.06\n"
     ]
    }
   ],
   "source": [
    "TPR = np.round(TP/(TP+FN), 2)\n",
    "FPR = np.round(FP/(FP+TN), 2)\n",
    "\n",
    "print(\"True Positive Rate = \", TPR)\n",
    "print(\"False Positive Rate = \", FPR)"
   ]
  },
  {
   "cell_type": "markdown",
   "id": "096c508b",
   "metadata": {},
   "source": [
    "### ROC: Receiver Operating Characterisitcs\n",
    "### AUC: Area Under the Curve"
   ]
  },
  {
   "cell_type": "code",
   "execution_count": 29,
   "id": "f9a3cd00",
   "metadata": {},
   "outputs": [
    {
     "data": {
      "image/png": "[encoded data removed]",
      "text/plain": [
       "<Figure size 720x576 with 1 Axes>"
      ]
     },
     "metadata": {
      "needs_background": "light"
     },
     "output_type": "display_data"
    }
   ],
   "source": [
    "fpr, tpr, thr = roc_curve(y_test['Churn'], \n",
    "                          y_test['probability'])\n",
    "auc = np.round(roc_auc_score(y_test['Churn'], \n",
    "                             y_test['predicted_Churn']), 2)\n",
    "\n",
    "plt.figure(figsize=(10, 8))\n",
    "plt.plot(fpr, \n",
    "         tpr, \n",
    "         color='green', \n",
    "         lw=2, \n",
    "         label=\"Curve Area = \" +str(auc))\n",
    "\n",
    "plt.plot([0, 1], [0, 1], color='blue', lw=2, linestyle='--')\n",
    "plt.xlabel('False Positive Rate (FPR)')\n",
    "plt.ylabel('True Positive Rate (TPR)')\n",
    "plt.title('ROC curve')\n",
    "plt.legend(loc=\"lower right\")\n",
    "plt.show()"
   ]
  },
  {
   "cell_type": "code",
   "execution_count": 30,
   "id": "d1f95cab",
   "metadata": {},
   "outputs": [
    {
     "data": {
      "text/html": [
       "<div>\n",
       "<style scoped>\n",
       "    .dataframe tbody tr th:only-of-type {\n",
       "        vertical-align: middle;\n",
       "    }\n",
       "\n",
       "    .dataframe tbody tr th {\n",
       "        vertical-align: top;\n",
       "    }\n",
       "\n",
       "    .dataframe thead th {\n",
       "        text-align: right;\n",
       "    }\n",
       "</style>\n",
       "<table border=\"1\" class=\"dataframe\">\n",
       "  <thead>\n",
       "    <tr style=\"text-align: right;\">\n",
       "      <th></th>\n",
       "      <th>threshold</th>\n",
       "      <th>FPR</th>\n",
       "      <th>TPR</th>\n",
       "    </tr>\n",
       "  </thead>\n",
       "  <tbody>\n",
       "    <tr>\n",
       "      <th>0</th>\n",
       "      <td>2.0</td>\n",
       "      <td>0.000000</td>\n",
       "      <td>0.000000</td>\n",
       "    </tr>\n",
       "    <tr>\n",
       "      <th>1</th>\n",
       "      <td>1.0</td>\n",
       "      <td>0.059649</td>\n",
       "      <td>0.731959</td>\n",
       "    </tr>\n",
       "    <tr>\n",
       "      <th>2</th>\n",
       "      <td>0.0</td>\n",
       "      <td>1.000000</td>\n",
       "      <td>1.000000</td>\n",
       "    </tr>\n",
       "  </tbody>\n",
       "</table>\n",
       "</div>"
      ],
      "text/plain": [
       "   threshold       FPR       TPR\n",
       "0        2.0  0.000000  0.000000\n",
       "1        1.0  0.059649  0.731959\n",
       "2        0.0  1.000000  1.000000"
      ]
     },
     "metadata": {},
     "output_type": "display_data"
    }
   ],
   "source": [
    "roc_data = pd.DataFrame({\"threshold\": thr, \"FPR\": fpr, \"TPR\": tpr})\n",
    "display(roc_data.tail(10))"
   ]
  },
  {
   "cell_type": "markdown",
   "id": "62ef763e",
   "metadata": {},
   "source": [
    "### Classification report"
   ]
  },
  {
   "cell_type": "code",
   "execution_count": 31,
   "id": "e1c406d4",
   "metadata": {},
   "outputs": [
    {
     "name": "stdout",
     "output_type": "stream",
     "text": [
      "Classification Report: \n",
      "               precision    recall  f1-score   support\n",
      "\n",
      "           0       0.95      0.94      0.95       570\n",
      "           1       0.68      0.73      0.70        97\n",
      "\n",
      "    accuracy                           0.91       667\n",
      "   macro avg       0.81      0.84      0.82       667\n",
      "weighted avg       0.91      0.91      0.91       667\n",
      "\n"
     ]
    }
   ],
   "source": [
    "class_report = classification_report(y_test['Churn'], \n",
    "                                     y_test['predicted_Churn'])\n",
    "print(\"Classification Report: \\n\", class_report)"
   ]
  },
  {
   "cell_type": "markdown",
   "id": "22d34582",
   "metadata": {},
   "source": [
    "## Observation\n"
   ]
  },
  {
   "cell_type": "markdown",
   "id": "1a8ee07b",
   "metadata": {},
   "source": [
    "> - Accuracy = 91% \n",
    "> - Precision = 68%\n",
    "> - Recall = 73% \n",
    "> - F1-score = 70% \n",
    "> - Curve area = 0.84\n"
   ]
  },
  {
   "cell_type": "markdown",
   "id": "de98a4dc",
   "metadata": {},
   "source": [
    "### Grid Search and Cross-Validation with Decision Tree Classifier"
   ]
  },
  {
   "cell_type": "code",
   "execution_count": 32,
   "id": "ed8c1095",
   "metadata": {},
   "outputs": [],
   "source": [
    "parameters = {'criterion': ['gini','entropy'],\n",
    "              'max_depth': [3, 4, 5, 6, 7]}\n",
    "\n",
    "model = DecisionTreeClassifier(random_state=11)\n",
    "grid_search = GridSearchCV(estimator=model,\n",
    "                           param_grid=parameters,\n",
    "                           scoring=\"accuracy\",\n",
    "                           cv=5,\n",
    "                           n_jobs=-1)\n",
    "\n",
    "# fit the model with the best hyper-parameters\n",
    "grid_result = grid_search.fit(X_train, y_train)\n"
   ]
  },
  {
   "cell_type": "markdown",
   "id": "ce7cf69b",
   "metadata": {},
   "source": [
    "#### hyperparameters for grid search in each iteration\n",
    "- iteration 1: criterion='gini', max_depth=3\n",
    "- iteration 2: criterion='gini', max_depth=4\n",
    "- iteration 3: criterion='gini', max_depth=5\n",
    "- iteration 4: criterion='gini', max_depth=6\n",
    "- iteration 5: criterion='gini', max_depth=7\n",
    "- iteration 6: criterion='entropy', max_depth=3\n",
    "- iteration 7: criterion='entropy', max_depth=4\n",
    "- iteration 8: criterion='entropy', max_depth=5\n",
    "- iteration 9: criterion='entropy', max_depth=6\n",
    "- iteration 10: criterion='entropy', max_depth=7"
   ]
  },
  {
   "cell_type": "code",
   "execution_count": 33,
   "id": "816e568d",
   "metadata": {},
   "outputs": [],
   "source": [
    "y_pred = np.round(grid_result.predict(X_test), 2)"
   ]
  },
  {
   "cell_type": "markdown",
   "id": "fdf460e6",
   "metadata": {},
   "source": [
    "#### Best hyperparameters in the grid search"
   ]
  },
  {
   "cell_type": "code",
   "execution_count": 34,
   "id": "e278464d",
   "metadata": {},
   "outputs": [
    {
     "data": {
      "text/plain": [
       "{'criterion': 'entropy', 'max_depth': 6}"
      ]
     },
     "execution_count": 34,
     "metadata": {},
     "output_type": "execute_result"
    }
   ],
   "source": [
    "grid_result.best_params_"
   ]
  },
  {
   "cell_type": "code",
   "execution_count": 35,
   "id": "780c6503",
   "metadata": {},
   "outputs": [
    {
     "data": {
      "text/html": [
       "<div>\n",
       "<style scoped>\n",
       "    .dataframe tbody tr th:only-of-type {\n",
       "        vertical-align: middle;\n",
       "    }\n",
       "\n",
       "    .dataframe tbody tr th {\n",
       "        vertical-align: top;\n",
       "    }\n",
       "\n",
       "    .dataframe thead th {\n",
       "        text-align: right;\n",
       "    }\n",
       "</style>\n",
       "<table border=\"1\" class=\"dataframe\">\n",
       "  <thead>\n",
       "    <tr style=\"text-align: right;\">\n",
       "      <th></th>\n",
       "      <th>param_criterion</th>\n",
       "      <th>param_max_depth</th>\n",
       "      <th>split0_test_score</th>\n",
       "      <th>split1_test_score</th>\n",
       "      <th>split2_test_score</th>\n",
       "      <th>split3_test_score</th>\n",
       "      <th>split4_test_score</th>\n",
       "      <th>mean_test_score</th>\n",
       "      <th>std_test_score</th>\n",
       "      <th>rank_test_score</th>\n",
       "    </tr>\n",
       "  </thead>\n",
       "  <tbody>\n",
       "    <tr>\n",
       "      <th>8</th>\n",
       "      <td>entropy</td>\n",
       "      <td>6</td>\n",
       "      <td>0.943820</td>\n",
       "      <td>0.936210</td>\n",
       "      <td>0.936210</td>\n",
       "      <td>0.947467</td>\n",
       "      <td>0.947467</td>\n",
       "      <td>0.942235</td>\n",
       "      <td>0.005096</td>\n",
       "      <td>1</td>\n",
       "    </tr>\n",
       "    <tr>\n",
       "      <th>3</th>\n",
       "      <td>gini</td>\n",
       "      <td>6</td>\n",
       "      <td>0.949438</td>\n",
       "      <td>0.936210</td>\n",
       "      <td>0.938086</td>\n",
       "      <td>0.939962</td>\n",
       "      <td>0.934334</td>\n",
       "      <td>0.939606</td>\n",
       "      <td>0.005262</td>\n",
       "      <td>2</td>\n",
       "    </tr>\n",
       "    <tr>\n",
       "      <th>4</th>\n",
       "      <td>gini</td>\n",
       "      <td>7</td>\n",
       "      <td>0.951311</td>\n",
       "      <td>0.938086</td>\n",
       "      <td>0.939962</td>\n",
       "      <td>0.934334</td>\n",
       "      <td>0.932458</td>\n",
       "      <td>0.939230</td>\n",
       "      <td>0.006597</td>\n",
       "      <td>3</td>\n",
       "    </tr>\n",
       "    <tr>\n",
       "      <th>9</th>\n",
       "      <td>entropy</td>\n",
       "      <td>7</td>\n",
       "      <td>0.941948</td>\n",
       "      <td>0.934334</td>\n",
       "      <td>0.936210</td>\n",
       "      <td>0.939962</td>\n",
       "      <td>0.939962</td>\n",
       "      <td>0.938483</td>\n",
       "      <td>0.002784</td>\n",
       "      <td>4</td>\n",
       "    </tr>\n",
       "    <tr>\n",
       "      <th>2</th>\n",
       "      <td>gini</td>\n",
       "      <td>5</td>\n",
       "      <td>0.947566</td>\n",
       "      <td>0.928705</td>\n",
       "      <td>0.924953</td>\n",
       "      <td>0.949343</td>\n",
       "      <td>0.934334</td>\n",
       "      <td>0.936980</td>\n",
       "      <td>0.009849</td>\n",
       "      <td>5</td>\n",
       "    </tr>\n",
       "    <tr>\n",
       "      <th>7</th>\n",
       "      <td>entropy</td>\n",
       "      <td>5</td>\n",
       "      <td>0.953184</td>\n",
       "      <td>0.930582</td>\n",
       "      <td>0.921201</td>\n",
       "      <td>0.943715</td>\n",
       "      <td>0.936210</td>\n",
       "      <td>0.936978</td>\n",
       "      <td>0.010940</td>\n",
       "      <td>6</td>\n",
       "    </tr>\n",
       "    <tr>\n",
       "      <th>6</th>\n",
       "      <td>entropy</td>\n",
       "      <td>4</td>\n",
       "      <td>0.921348</td>\n",
       "      <td>0.915572</td>\n",
       "      <td>0.915572</td>\n",
       "      <td>0.913696</td>\n",
       "      <td>0.919325</td>\n",
       "      <td>0.917103</td>\n",
       "      <td>0.002802</td>\n",
       "      <td>7</td>\n",
       "    </tr>\n",
       "    <tr>\n",
       "      <th>1</th>\n",
       "      <td>gini</td>\n",
       "      <td>4</td>\n",
       "      <td>0.921348</td>\n",
       "      <td>0.917448</td>\n",
       "      <td>0.909944</td>\n",
       "      <td>0.915572</td>\n",
       "      <td>0.919325</td>\n",
       "      <td>0.916727</td>\n",
       "      <td>0.003898</td>\n",
       "      <td>8</td>\n",
       "    </tr>\n",
       "    <tr>\n",
       "      <th>0</th>\n",
       "      <td>gini</td>\n",
       "      <td>3</td>\n",
       "      <td>0.904494</td>\n",
       "      <td>0.906191</td>\n",
       "      <td>0.902439</td>\n",
       "      <td>0.896811</td>\n",
       "      <td>0.900563</td>\n",
       "      <td>0.902100</td>\n",
       "      <td>0.003254</td>\n",
       "      <td>9</td>\n",
       "    </tr>\n",
       "    <tr>\n",
       "      <th>5</th>\n",
       "      <td>entropy</td>\n",
       "      <td>3</td>\n",
       "      <td>0.904494</td>\n",
       "      <td>0.894934</td>\n",
       "      <td>0.902439</td>\n",
       "      <td>0.896811</td>\n",
       "      <td>0.896811</td>\n",
       "      <td>0.899098</td>\n",
       "      <td>0.003690</td>\n",
       "      <td>10</td>\n",
       "    </tr>\n",
       "  </tbody>\n",
       "</table>\n",
       "</div>"
      ],
      "text/plain": [
       "  param_criterion param_max_depth  split0_test_score  split1_test_score  \\\n",
       "8         entropy               6           0.943820           0.936210   \n",
       "3            gini               6           0.949438           0.936210   \n",
       "4            gini               7           0.951311           0.938086   \n",
       "9         entropy               7           0.941948           0.934334   \n",
       "2            gini               5           0.947566           0.928705   \n",
       "7         entropy               5           0.953184           0.930582   \n",
       "6         entropy               4           0.921348           0.915572   \n",
       "1            gini               4           0.921348           0.917448   \n",
       "0            gini               3           0.904494           0.906191   \n",
       "5         entropy               3           0.904494           0.894934   \n",
       "\n",
       "   split2_test_score  split3_test_score  split4_test_score  mean_test_score  \\\n",
       "8           0.936210           0.947467           0.947467         0.942235   \n",
       "3           0.938086           0.939962           0.934334         0.939606   \n",
       "4           0.939962           0.934334           0.932458         0.939230   \n",
       "9           0.936210           0.939962           0.939962         0.938483   \n",
       "2           0.924953           0.949343           0.934334         0.936980   \n",
       "7           0.921201           0.943715           0.936210         0.936978   \n",
       "6           0.915572           0.913696           0.919325         0.917103   \n",
       "1           0.909944           0.915572           0.919325         0.916727   \n",
       "0           0.902439           0.896811           0.900563         0.902100   \n",
       "5           0.902439           0.896811           0.896811         0.899098   \n",
       "\n",
       "   std_test_score  rank_test_score  \n",
       "8        0.005096                1  \n",
       "3        0.005262                2  \n",
       "4        0.006597                3  \n",
       "9        0.002784                4  \n",
       "2        0.009849                5  \n",
       "7        0.010940                6  \n",
       "6        0.002802                7  \n",
       "1        0.003898                8  \n",
       "0        0.003254                9  \n",
       "5        0.003690               10  "
      ]
     },
     "metadata": {},
     "output_type": "display_data"
    },
    {
     "name": "stdout",
     "output_type": "stream",
     "text": [
      "Index(['param_criterion', 'param_max_depth', 'split0_test_score',\n",
      "       'split1_test_score', 'split2_test_score', 'split3_test_score',\n",
      "       'split4_test_score', 'mean_test_score', 'std_test_score',\n",
      "       'rank_test_score'],\n",
      "      dtype='object')\n"
     ]
    }
   ],
   "source": [
    "cv_result = pd.DataFrame(grid_result.cv_results_)\n",
    "cv_result = cv_result[['param_criterion', 'param_max_depth',\n",
    "                       'split0_test_score',\n",
    "                       'split1_test_score', 'split2_test_score', 'split3_test_score',\n",
    "                       'split4_test_score', 'mean_test_score', 'std_test_score',\n",
    "                       'rank_test_score']]\n",
    "cv_result = cv_result.sort_values(by='rank_test_score')\n",
    "display(cv_result)\n",
    "print(cv_result.columns)"
   ]
  },
  {
   "cell_type": "markdown",
   "id": "9f790651",
   "metadata": {},
   "source": [
    "#### Model performance evaluation with the best found model in grid search and cross-validation"
   ]
  },
  {
   "cell_type": "code",
   "execution_count": 36,
   "id": "2c06fb2c",
   "metadata": {},
   "outputs": [
    {
     "data": {
      "image/png": "[encoded data removed]",
      "text/plain": [
       "<Figure size 432x288 with 2 Axes>"
      ]
     },
     "metadata": {
      "needs_background": "light"
     },
     "output_type": "display_data"
    }
   ],
   "source": [
    "plot_confusion_matrix(grid_result, \n",
    "                      X_test, \n",
    "                      y_test['Churn'], \n",
    "                      display_labels=[\"will not churn\", \"will churn\"],\n",
    "                      cmap='Blues')\n",
    "plt.show()"
   ]
  },
  {
   "cell_type": "code",
   "execution_count": 37,
   "id": "acabda15",
   "metadata": {},
   "outputs": [
    {
     "name": "stdout",
     "output_type": "stream",
     "text": [
      "confusion_matrix: \n",
      " [[556  14]\n",
      " [ 22  75]]\n",
      "Accuracy:  0.9460269865067467\n",
      "              precision    recall  f1-score   support\n",
      "\n",
      "           0       0.96      0.98      0.97       570\n",
      "           1       0.84      0.77      0.81        97\n",
      "\n",
      "    accuracy                           0.95       667\n",
      "   macro avg       0.90      0.87      0.89       667\n",
      "weighted avg       0.94      0.95      0.95       667\n",
      "\n"
     ]
    }
   ],
   "source": [
    "confusion_matrix_dt = confusion_matrix(y_test['Churn'], y_pred)\n",
    "print('confusion_matrix: \\n', confusion_matrix_dt)\n",
    "\n",
    "print('Accuracy: ', accuracy_score(y_test['Churn'], y_pred))\n",
    "\n",
    "print(classification_report(y_test['Churn'], y_pred))"
   ]
  },
  {
   "cell_type": "code",
   "execution_count": 38,
   "id": "2526351f",
   "metadata": {},
   "outputs": [
    {
     "data": {
      "image/png": "[encoded data removed]",
      "text/plain": [
       "<Figure size 720x576 with 1 Axes>"
      ]
     },
     "metadata": {
      "needs_background": "light"
     },
     "output_type": "display_data"
    }
   ],
   "source": [
    "fpr, tpr, thr = roc_curve(y_test['Churn'], grid_result.predict_proba(X_test)[:,1])\n",
    "auc = np.round(roc_auc_score(y_test['Churn'], y_pred), 2)\n",
    "\n",
    "plt.figure(figsize=(10, 8))\n",
    "plt.plot(fpr, \n",
    "         tpr, \n",
    "         color='green', \n",
    "         lw=2, \n",
    "         label=\"Curve Area = \" +str(auc))\n",
    "\n",
    "plt.plot([0, 1], [0, 1], color='blue', lw=2, linestyle='--')\n",
    "plt.xlabel('False Positive Rate (FPR)')\n",
    "plt.ylabel('True Positive Rate (TPR)')\n",
    "plt.title('ROC curve')\n",
    "plt.legend(loc=\"lower right\")\n",
    "plt.show()"
   ]
  },
  {
   "cell_type": "markdown",
   "id": "908b448d",
   "metadata": {},
   "source": [
    "### Observation\n"
   ]
  },
  {
   "cell_type": "markdown",
   "id": "1f62333f",
   "metadata": {},
   "source": [
    "After applying grid search and cross-validation :\n",
    "> - Accuracy = 95% \n",
    "> - Precision = 84%\n",
    "> - Recall = 77% \n",
    "> - F1-score = 81% \n",
    "> - Curve area = 0.87"
   ]
  },
  {
   "cell_type": "code",
   "execution_count": null,
   "id": "e32641d3",
   "metadata": {},
   "outputs": [],
   "source": []
  }
 ],
 "metadata": {
  "kernelspec": {
   "display_name": "Python 3 (ipykernel)",
   "language": "python",
   "name": "python3"
  },
  "language_info": {
   "codemirror_mode": {
    "name": "ipython",
    "version": 3
   },
   "file_extension": ".py",
   "mimetype": "text/x-python",
   "name": "python",
   "nbconvert_exporter": "python",
   "pygments_lexer": "ipython3",
   "version": "3.9.12"
  }
 },
 "nbformat": 4,
 "nbformat_minor": 5
}
